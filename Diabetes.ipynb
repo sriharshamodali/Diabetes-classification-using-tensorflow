{
 "cells": [
  {
   "cell_type": "markdown",
   "metadata": {},
   "source": [
    "## Machine learning model using Tensorflow estimator API to accurately predict whether or not the patients in the dataset have diabetes or not "
   ]
  },
  {
   "cell_type": "code",
   "execution_count": 1,
   "metadata": {},
   "outputs": [],
   "source": [
    "import pandas as pd\n",
    "import numpy as np\n",
    "import matplotlib.pyplot as plt\n",
    "%matplotlib inline\n",
    "import tensorflow as tf"
   ]
  },
  {
   "cell_type": "markdown",
   "metadata": {},
   "source": [
    "This dataset is originally from the National Institute of Diabetes and Digestive and Kidney Diseases. The objective of the dataset is to diagnostically predict whether or not a patient has diabetes, based on certain diagnostic measurements included in the dataset. Several constraints were placed on the selection of these instances from a larger database. In particular, all patients here are females at least 21 years old of Pima Indian heritage.\n",
    "\n",
    "The datasets consist of several medical predictor (independent) variables and one target (dependent) variable, Outcome. Independent variables include the number of pregnancies the patient has had, their BMI, insulin level, age, and so on."
   ]
  },
  {
   "cell_type": "code",
   "execution_count": 2,
   "metadata": {},
   "outputs": [],
   "source": [
    "diabetes_df = pd.read_csv('diabetes.csv')"
   ]
  },
  {
   "cell_type": "markdown",
   "metadata": {},
   "source": [
    "# Information on Columns:\n",
    "\n",
    "Pregnancies - Number of times pregnant\n",
    "GlucosePlasma - glucose concentration a 2 hours in an oral glucose tolerance test\n",
    "BloodPressure - Diastolic blood pressure (mm Hg)\n",
    "SkinThickness - Triceps skin fold thickness (mm)\n",
    "Insulin - 2-Hour serum insulin (mu U/ml)\n",
    "BMI - Body mass index (weight in kg/(height in m)^2)\n",
    "DiabetesPedigreeFunction - Diabetes pedigree function\n",
    "Age - Age (years)\n",
    "Outcome - Class variable (0 or 1) 268 of 768 are 1, the others are 0"
   ]
  },
  {
   "cell_type": "code",
   "execution_count": 3,
   "metadata": {},
   "outputs": [
    {
     "data": {
      "text/html": [
       "<div>\n",
       "<style scoped>\n",
       "    .dataframe tbody tr th:only-of-type {\n",
       "        vertical-align: middle;\n",
       "    }\n",
       "\n",
       "    .dataframe tbody tr th {\n",
       "        vertical-align: top;\n",
       "    }\n",
       "\n",
       "    .dataframe thead th {\n",
       "        text-align: right;\n",
       "    }\n",
       "</style>\n",
       "<table border=\"1\" class=\"dataframe\">\n",
       "  <thead>\n",
       "    <tr style=\"text-align: right;\">\n",
       "      <th></th>\n",
       "      <th>Pregnancies</th>\n",
       "      <th>Glucose</th>\n",
       "      <th>BloodPressure</th>\n",
       "      <th>SkinThickness</th>\n",
       "      <th>Insulin</th>\n",
       "      <th>BMI</th>\n",
       "      <th>DiabetesPedigreeFunction</th>\n",
       "      <th>Age</th>\n",
       "      <th>Outcome</th>\n",
       "    </tr>\n",
       "  </thead>\n",
       "  <tbody>\n",
       "    <tr>\n",
       "      <th>0</th>\n",
       "      <td>6</td>\n",
       "      <td>148</td>\n",
       "      <td>72</td>\n",
       "      <td>35</td>\n",
       "      <td>0</td>\n",
       "      <td>33.6</td>\n",
       "      <td>0.627</td>\n",
       "      <td>50</td>\n",
       "      <td>1</td>\n",
       "    </tr>\n",
       "    <tr>\n",
       "      <th>1</th>\n",
       "      <td>1</td>\n",
       "      <td>85</td>\n",
       "      <td>66</td>\n",
       "      <td>29</td>\n",
       "      <td>0</td>\n",
       "      <td>26.6</td>\n",
       "      <td>0.351</td>\n",
       "      <td>31</td>\n",
       "      <td>0</td>\n",
       "    </tr>\n",
       "    <tr>\n",
       "      <th>2</th>\n",
       "      <td>8</td>\n",
       "      <td>183</td>\n",
       "      <td>64</td>\n",
       "      <td>0</td>\n",
       "      <td>0</td>\n",
       "      <td>23.3</td>\n",
       "      <td>0.672</td>\n",
       "      <td>32</td>\n",
       "      <td>1</td>\n",
       "    </tr>\n",
       "    <tr>\n",
       "      <th>3</th>\n",
       "      <td>1</td>\n",
       "      <td>89</td>\n",
       "      <td>66</td>\n",
       "      <td>23</td>\n",
       "      <td>94</td>\n",
       "      <td>28.1</td>\n",
       "      <td>0.167</td>\n",
       "      <td>21</td>\n",
       "      <td>0</td>\n",
       "    </tr>\n",
       "    <tr>\n",
       "      <th>4</th>\n",
       "      <td>0</td>\n",
       "      <td>137</td>\n",
       "      <td>40</td>\n",
       "      <td>35</td>\n",
       "      <td>168</td>\n",
       "      <td>43.1</td>\n",
       "      <td>2.288</td>\n",
       "      <td>33</td>\n",
       "      <td>1</td>\n",
       "    </tr>\n",
       "  </tbody>\n",
       "</table>\n",
       "</div>"
      ],
      "text/plain": [
       "   Pregnancies  Glucose  BloodPressure  SkinThickness  Insulin   BMI  \\\n",
       "0            6      148             72             35        0  33.6   \n",
       "1            1       85             66             29        0  26.6   \n",
       "2            8      183             64              0        0  23.3   \n",
       "3            1       89             66             23       94  28.1   \n",
       "4            0      137             40             35      168  43.1   \n",
       "\n",
       "   DiabetesPedigreeFunction  Age  Outcome  \n",
       "0                     0.627   50        1  \n",
       "1                     0.351   31        0  \n",
       "2                     0.672   32        1  \n",
       "3                     0.167   21        0  \n",
       "4                     2.288   33        1  "
      ]
     },
     "execution_count": 3,
     "metadata": {},
     "output_type": "execute_result"
    }
   ],
   "source": [
    "diabetes_df.head()"
   ]
  },
  {
   "cell_type": "code",
   "execution_count": 12,
   "metadata": {},
   "outputs": [],
   "source": [
    "columns_norm = ['Pregnancies', 'Glucose', 'BloodPressure', 'SkinThickness', 'Insulin',\n",
    "       'BMI', 'DiabetesPedigreeFunction','Age']"
   ]
  },
  {
   "cell_type": "code",
   "execution_count": 7,
   "metadata": {},
   "outputs": [],
   "source": [
    "# Normalize data in all the columns except Age and Outcome\n",
    "diabetes_df[columns_norm] = diabetes_df[columns_norm].apply(lambda x: (x - x.min())/(x.max() - x.min()))"
   ]
  },
  {
   "cell_type": "code",
   "execution_count": 11,
   "metadata": {},
   "outputs": [
    {
     "data": {
      "text/plain": [
       "<matplotlib.axes._subplots.AxesSubplot at 0xb28498160>"
      ]
     },
     "execution_count": 11,
     "metadata": {},
     "output_type": "execute_result"
    },
    {
     "data": {
      "image/png": "[encoded data removed]",
      "text/plain": [
       "<Figure size 432x288 with 1 Axes>"
      ]
     },
     "metadata": {
      "needs_background": "light"
     },
     "output_type": "display_data"
    }
   ],
   "source": [
    "# Histogram Plot - Age\n",
    "diabetes_df['Age'].hist(bins = 20)"
   ]
  },
  {
   "cell_type": "code",
   "execution_count": 16,
   "metadata": {},
   "outputs": [],
   "source": [
    "#Create features columns\n",
    "Pregnancies = tf.feature_column.numeric_column(columns_norm[0])\n",
    "Glucose = tf.feature_column.numeric_column(columns_norm[1])\n",
    "BloodPressure = tf.feature_column.numeric_column(columns_norm[2])\n",
    "SkinThickness = tf.feature_column.numeric_column(columns_norm[3])\n",
    "Insulin = tf.feature_column.numeric_column(columns_norm[4])\n",
    "BMI = tf.feature_column.numeric_column(columns_norm[5])\n",
    "DiabetesPedigreeFunction = tf.feature_column.numeric_column(columns_norm[6])\n",
    "Age = tf.feature_column.numeric_column(columns_norm[7])\n",
    "\n",
    "# Create buckets for age based on age histogram\n",
    "Age_buckets = tf.feature_column.bucketized_column(source_column = Age, boundaries = [20,30,40,50,60,70,80])"
   ]
  },
  {
   "cell_type": "code",
   "execution_count": 17,
   "metadata": {},
   "outputs": [],
   "source": [
    "features = [Pregnancies, Glucose, BloodPressure, SkinThickness, Insulin,\n",
    "       BMI, DiabetesPedigreeFunction, Age_buckets]"
   ]
  },
  {
   "cell_type": "code",
   "execution_count": 23,
   "metadata": {},
   "outputs": [],
   "source": [
    "# Training and testing data\n",
    "x_data = diabetes_df.drop('Outcome', axis = 1)\n",
    "y_data = diabetes_df['Outcome']\n",
    "\n",
    "from sklearn.model_selection import train_test_split\n",
    "x_train, x_test, y_train, y_test = train_test_split(x_data, y_data, test_size = 0.2)"
   ]
  },
  {
   "cell_type": "code",
   "execution_count": 24,
   "metadata": {},
   "outputs": [],
   "source": [
    "# Input function to train the model\n",
    "input_func = tf.estimator.inputs.pandas_input_fn(x = x_train, y = y_train, batch_size = 8, num_epochs = 1000, shuffle = True)"
   ]
  },
  {
   "cell_type": "markdown",
   "metadata": {},
   "source": [
    "# Linear Classifier"
   ]
  },
  {
   "cell_type": "code",
   "execution_count": 25,
   "metadata": {},
   "outputs": [
    {
     "name": "stdout",
     "output_type": "stream",
     "text": [
      "INFO:tensorflow:Using default config.\n",
      "WARNING:tensorflow:Using temporary folder as model directory: /var/folders/rl/l48j6fgj5lj8f_s0j7_ndk000000gn/T/tmp3zgjxokd\n",
      "INFO:tensorflow:Using config: {'_model_dir': '/var/folders/rl/l48j6fgj5lj8f_s0j7_ndk000000gn/T/tmp3zgjxokd', '_tf_random_seed': None, '_save_summary_steps': 100, '_save_checkpoints_steps': None, '_save_checkpoints_secs': 600, '_session_config': allow_soft_placement: true\n",
      "graph_options {\n",
      "  rewrite_options {\n",
      "    meta_optimizer_iterations: ONE\n",
      "  }\n",
      "}\n",
      ", '_keep_checkpoint_max': 5, '_keep_checkpoint_every_n_hours': 10000, '_log_step_count_steps': 100, '_train_distribute': None, '_device_fn': None, '_protocol': None, '_eval_distribute': None, '_experimental_distribute': None, '_service': None, '_cluster_spec': <tensorflow.python.training.server_lib.ClusterSpec object at 0x1a29f9bc50>, '_task_type': 'worker', '_task_id': 0, '_global_id_in_cluster': 0, '_master': '', '_evaluation_master': '', '_is_chief': True, '_num_ps_replicas': 0, '_num_worker_replicas': 1}\n"
     ]
    }
   ],
   "source": [
    "# Linear Classifier\n",
    "model = tf.estimator.LinearClassifier(feature_columns = features, n_classes = 2)"
   ]
  },
  {
   "cell_type": "code",
   "execution_count": 26,
   "metadata": {},
   "outputs": [
    {
     "name": "stdout",
     "output_type": "stream",
     "text": [
      "INFO:tensorflow:Calling model_fn.\n",
      "INFO:tensorflow:Done calling model_fn.\n",
      "INFO:tensorflow:Create CheckpointSaverHook.\n",
      "INFO:tensorflow:Graph was finalized.\n",
      "INFO:tensorflow:Running local_init_op.\n",
      "INFO:tensorflow:Done running local_init_op.\n",
      "INFO:tensorflow:Saving checkpoints for 0 into /var/folders/rl/l48j6fgj5lj8f_s0j7_ndk000000gn/T/tmp3zgjxokd/model.ckpt.\n",
      "INFO:tensorflow:loss = 5.5451775, step = 1\n",
      "INFO:tensorflow:global_step/sec: 408.947\n",
      "INFO:tensorflow:loss = 6.686342, step = 101 (0.246 sec)\n",
      "INFO:tensorflow:global_step/sec: 628.184\n",
      "INFO:tensorflow:loss = 4.9082766, step = 201 (0.158 sec)\n",
      "INFO:tensorflow:global_step/sec: 651.662\n",
      "INFO:tensorflow:loss = 5.759714, step = 301 (0.152 sec)\n",
      "INFO:tensorflow:global_step/sec: 745.394\n",
      "INFO:tensorflow:loss = 5.513869, step = 401 (0.135 sec)\n",
      "INFO:tensorflow:global_step/sec: 704.777\n",
      "INFO:tensorflow:loss = 6.184618, step = 501 (0.141 sec)\n",
      "INFO:tensorflow:global_step/sec: 700.574\n",
      "INFO:tensorflow:loss = 2.3628058, step = 601 (0.145 sec)\n",
      "INFO:tensorflow:global_step/sec: 669.379\n",
      "INFO:tensorflow:loss = 4.9278445, step = 701 (0.150 sec)\n",
      "INFO:tensorflow:global_step/sec: 645.558\n",
      "INFO:tensorflow:loss = 6.0952463, step = 801 (0.154 sec)\n",
      "INFO:tensorflow:global_step/sec: 649.162\n",
      "INFO:tensorflow:loss = 3.856686, step = 901 (0.154 sec)\n",
      "INFO:tensorflow:Saving checkpoints for 1000 into /var/folders/rl/l48j6fgj5lj8f_s0j7_ndk000000gn/T/tmp3zgjxokd/model.ckpt.\n",
      "INFO:tensorflow:Loss for final step: 4.108433.\n"
     ]
    },
    {
     "data": {
      "text/plain": [
       "<tensorflow_estimator.python.estimator.canned.linear.LinearClassifier at 0x1a2933f470>"
      ]
     },
     "execution_count": 26,
     "metadata": {},
     "output_type": "execute_result"
    }
   ],
   "source": [
    "# Training model\n",
    "model.train(input_func, steps = 1000)"
   ]
  },
  {
   "cell_type": "code",
   "execution_count": 28,
   "metadata": {},
   "outputs": [],
   "source": [
    "# Evaluation function to test the model\n",
    "eval_func = tf.estimator.inputs.pandas_input_fn(x = x_test, y = y_test, batch_size = 8, num_epochs = 1, shuffle = False)"
   ]
  },
  {
   "cell_type": "code",
   "execution_count": 31,
   "metadata": {},
   "outputs": [
    {
     "name": "stdout",
     "output_type": "stream",
     "text": [
      "INFO:tensorflow:Calling model_fn.\n",
      "WARNING:tensorflow:Trapezoidal rule is known to produce incorrect PR-AUCs; please switch to \"careful_interpolation\" instead.\n",
      "WARNING:tensorflow:Trapezoidal rule is known to produce incorrect PR-AUCs; please switch to \"careful_interpolation\" instead.\n",
      "INFO:tensorflow:Done calling model_fn.\n",
      "INFO:tensorflow:Starting evaluation at 2019-05-10T14:41:35Z\n",
      "INFO:tensorflow:Graph was finalized.\n",
      "INFO:tensorflow:Restoring parameters from /var/folders/rl/l48j6fgj5lj8f_s0j7_ndk000000gn/T/tmp3zgjxokd/model.ckpt-1000\n",
      "INFO:tensorflow:Running local_init_op.\n",
      "INFO:tensorflow:Done running local_init_op.\n",
      "INFO:tensorflow:Finished evaluation at 2019-05-10-14:41:36\n",
      "INFO:tensorflow:Saving dict for global step 1000: accuracy = 0.74025977, accuracy_baseline = 0.7077922, auc = 0.7740062, auc_precision_recall = 0.59847146, average_loss = 0.5204475, global_step = 1000, label/mean = 0.29220778, loss = 4.0074453, precision = 0.5675676, prediction/mean = 0.3547598, recall = 0.46666667\n",
      "INFO:tensorflow:Saving 'checkpoint_path' summary for global step 1000: /var/folders/rl/l48j6fgj5lj8f_s0j7_ndk000000gn/T/tmp3zgjxokd/model.ckpt-1000\n"
     ]
    }
   ],
   "source": [
    "# Testing model\n",
    "results_linearClassifier = model.evaluate(eval_func)"
   ]
  },
  {
   "cell_type": "code",
   "execution_count": 32,
   "metadata": {},
   "outputs": [
    {
     "data": {
      "text/plain": [
       "{'accuracy': 0.74025977,\n",
       " 'accuracy_baseline': 0.7077922,\n",
       " 'auc': 0.7740062,\n",
       " 'auc_precision_recall': 0.59847146,\n",
       " 'average_loss': 0.5204475,\n",
       " 'label/mean': 0.29220778,\n",
       " 'loss': 4.0074453,\n",
       " 'precision': 0.5675676,\n",
       " 'prediction/mean': 0.3547598,\n",
       " 'recall': 0.46666667,\n",
       " 'global_step': 1000}"
      ]
     },
     "execution_count": 32,
     "metadata": {},
     "output_type": "execute_result"
    }
   ],
   "source": [
    "# Testing results\n",
    "results_linearClassifier"
   ]
  },
  {
   "cell_type": "markdown",
   "metadata": {},
   "source": [
    "# DNN Classifier"
   ]
  },
  {
   "cell_type": "code",
   "execution_count": 47,
   "metadata": {},
   "outputs": [
    {
     "name": "stdout",
     "output_type": "stream",
     "text": [
      "INFO:tensorflow:Using default config.\n",
      "WARNING:tensorflow:Using temporary folder as model directory: /var/folders/rl/l48j6fgj5lj8f_s0j7_ndk000000gn/T/tmpd9jcdsle\n",
      "INFO:tensorflow:Using config: {'_model_dir': '/var/folders/rl/l48j6fgj5lj8f_s0j7_ndk000000gn/T/tmpd9jcdsle', '_tf_random_seed': None, '_save_summary_steps': 100, '_save_checkpoints_steps': None, '_save_checkpoints_secs': 600, '_session_config': allow_soft_placement: true\n",
      "graph_options {\n",
      "  rewrite_options {\n",
      "    meta_optimizer_iterations: ONE\n",
      "  }\n",
      "}\n",
      ", '_keep_checkpoint_max': 5, '_keep_checkpoint_every_n_hours': 10000, '_log_step_count_steps': 100, '_train_distribute': None, '_device_fn': None, '_protocol': None, '_eval_distribute': None, '_experimental_distribute': None, '_service': None, '_cluster_spec': <tensorflow.python.training.server_lib.ClusterSpec object at 0x1a2acde710>, '_task_type': 'worker', '_task_id': 0, '_global_id_in_cluster': 0, '_master': '', '_evaluation_master': '', '_is_chief': True, '_num_ps_replicas': 0, '_num_worker_replicas': 1}\n"
     ]
    }
   ],
   "source": [
    "# DNN Classifier\n",
    "model_dnn = tf.estimator.DNNClassifier(hidden_units = [10,10,10], feature_columns = features, n_classes = 2)"
   ]
  },
  {
   "cell_type": "code",
   "execution_count": 48,
   "metadata": {},
   "outputs": [
    {
     "name": "stdout",
     "output_type": "stream",
     "text": [
      "INFO:tensorflow:Calling model_fn.\n",
      "INFO:tensorflow:Done calling model_fn.\n",
      "INFO:tensorflow:Create CheckpointSaverHook.\n",
      "INFO:tensorflow:Graph was finalized.\n",
      "INFO:tensorflow:Running local_init_op.\n",
      "INFO:tensorflow:Done running local_init_op.\n",
      "INFO:tensorflow:Saving checkpoints for 0 into /var/folders/rl/l48j6fgj5lj8f_s0j7_ndk000000gn/T/tmpd9jcdsle/model.ckpt.\n",
      "INFO:tensorflow:loss = 5.5459204, step = 1\n",
      "INFO:tensorflow:global_step/sec: 465.372\n",
      "INFO:tensorflow:loss = 7.224908, step = 101 (0.217 sec)\n",
      "INFO:tensorflow:global_step/sec: 693.053\n",
      "INFO:tensorflow:loss = 3.1251526, step = 201 (0.146 sec)\n",
      "INFO:tensorflow:global_step/sec: 708.271\n",
      "INFO:tensorflow:loss = 3.1175904, step = 301 (0.140 sec)\n",
      "INFO:tensorflow:global_step/sec: 711.48\n",
      "INFO:tensorflow:loss = 3.514429, step = 401 (0.141 sec)\n",
      "INFO:tensorflow:global_step/sec: 709.108\n",
      "INFO:tensorflow:loss = 6.709339, step = 501 (0.141 sec)\n",
      "INFO:tensorflow:global_step/sec: 718.263\n",
      "INFO:tensorflow:loss = 3.011726, step = 601 (0.139 sec)\n",
      "INFO:tensorflow:global_step/sec: 704.914\n",
      "INFO:tensorflow:loss = 3.3863733, step = 701 (0.142 sec)\n",
      "INFO:tensorflow:global_step/sec: 702.642\n",
      "INFO:tensorflow:loss = 6.4117465, step = 801 (0.144 sec)\n",
      "INFO:tensorflow:global_step/sec: 693.005\n",
      "INFO:tensorflow:loss = 4.752242, step = 901 (0.142 sec)\n",
      "INFO:tensorflow:Saving checkpoints for 1000 into /var/folders/rl/l48j6fgj5lj8f_s0j7_ndk000000gn/T/tmpd9jcdsle/model.ckpt.\n",
      "INFO:tensorflow:Loss for final step: 2.2712593.\n"
     ]
    },
    {
     "data": {
      "text/plain": [
       "<tensorflow_estimator.python.estimator.canned.dnn.DNNClassifier at 0x1a2acde668>"
      ]
     },
     "execution_count": 48,
     "metadata": {},
     "output_type": "execute_result"
    }
   ],
   "source": [
    "# Training model\n",
    "model_dnn.train(input_func, steps = 1000)"
   ]
  },
  {
   "cell_type": "code",
   "execution_count": 49,
   "metadata": {},
   "outputs": [
    {
     "name": "stdout",
     "output_type": "stream",
     "text": [
      "INFO:tensorflow:Calling model_fn.\n",
      "WARNING:tensorflow:Trapezoidal rule is known to produce incorrect PR-AUCs; please switch to \"careful_interpolation\" instead.\n",
      "WARNING:tensorflow:Trapezoidal rule is known to produce incorrect PR-AUCs; please switch to \"careful_interpolation\" instead.\n",
      "INFO:tensorflow:Done calling model_fn.\n",
      "INFO:tensorflow:Starting evaluation at 2019-05-10T14:49:37Z\n",
      "INFO:tensorflow:Graph was finalized.\n",
      "INFO:tensorflow:Restoring parameters from /var/folders/rl/l48j6fgj5lj8f_s0j7_ndk000000gn/T/tmpd9jcdsle/model.ckpt-1000\n",
      "INFO:tensorflow:Running local_init_op.\n",
      "INFO:tensorflow:Done running local_init_op.\n",
      "INFO:tensorflow:Finished evaluation at 2019-05-10-14:49:38\n",
      "INFO:tensorflow:Saving dict for global step 1000: accuracy = 0.77272725, accuracy_baseline = 0.7077922, auc = 0.8201835, auc_precision_recall = 0.67568374, average_loss = 0.47306493, global_step = 1000, label/mean = 0.29220778, loss = 3.6425998, precision = 0.6086956, prediction/mean = 0.33345613, recall = 0.62222224\n",
      "INFO:tensorflow:Saving 'checkpoint_path' summary for global step 1000: /var/folders/rl/l48j6fgj5lj8f_s0j7_ndk000000gn/T/tmpd9jcdsle/model.ckpt-1000\n"
     ]
    }
   ],
   "source": [
    "# Testing model\n",
    "results_dnnClassifier = model_dnn.evaluate(eval_func)"
   ]
  },
  {
   "cell_type": "code",
   "execution_count": 50,
   "metadata": {},
   "outputs": [
    {
     "data": {
      "text/plain": [
       "{'accuracy': 0.77272725,\n",
       " 'accuracy_baseline': 0.7077922,\n",
       " 'auc': 0.8201835,\n",
       " 'auc_precision_recall': 0.67568374,\n",
       " 'average_loss': 0.47306493,\n",
       " 'label/mean': 0.29220778,\n",
       " 'loss': 3.6425998,\n",
       " 'precision': 0.6086956,\n",
       " 'prediction/mean': 0.33345613,\n",
       " 'recall': 0.62222224,\n",
       " 'global_step': 1000}"
      ]
     },
     "execution_count": 50,
     "metadata": {},
     "output_type": "execute_result"
    }
   ],
   "source": [
    "results_dnnClassifier"
   ]
  },
  {
   "cell_type": "code",
   "execution_count": null,
   "metadata": {},
   "outputs": [],
   "source": []
  },
  {
   "cell_type": "code",
   "execution_count": null,
   "metadata": {},
   "outputs": [],
   "source": []
  }
 ],
 "metadata": {
  "kernelspec": {
   "display_name": "Python 3",
   "language": "python",
   "name": "python3"
  },
  "language_info": {
   "codemirror_mode": {
    "name": "ipython",
    "version": 3
   },
   "file_extension": ".py",
   "mimetype": "text/x-python",
   "name": "python",
   "nbconvert_exporter": "python",
   "pygments_lexer": "ipython3",
   "version": "3.7.2"
  }
 },
 "nbformat": 4,
 "nbformat_minor": 2
}
